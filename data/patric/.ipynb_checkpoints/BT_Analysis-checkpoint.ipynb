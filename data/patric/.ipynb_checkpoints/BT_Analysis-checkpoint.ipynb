{
 "cells": [
  {
   "cell_type": "markdown",
   "metadata": {},
   "source": [
    "# BT Analysis\n",
    "The goal here is to:\n",
    "\n",
    "-   Extract the full lengths cds\n",
    "    -   Applying this to both the Crickmore database as well as the Patric data seems to make the most sense going forward - things will just be easier.\n",
    "-   Check to see if there Patric sequences are full length CDS when compared to\n",
    "    the Crickmore database. This will be done using blast at the nt/prot level.\n",
    "    -   If yes then proceed as normal.\n",
    "    -   If no then try to build out the assembly for each contig.\n",
    "-   Create a tree showing divergence with the nucleotide sequences of each\n",
    "    Patric cry protein amongst those registered in the Crickmore db.\n",
    "-   Analyze the protein domains\n",
    "    -   Need more details about this analysis"
   ]
  },
  {
   "cell_type": "markdown",
   "metadata": {
    "collapsed": true
   },
   "source": [
    "## Get Full Length CDS\n",
    "\n",
    "### Crickmore\n",
    "To obtain known cry sequences I used the Crickmore database to grab the accessions for each gene by parsing the [html file](http://www.btnomenclature.info/). I provided all of these to [batch entrez](https://www.ncbi.nlm.nih.gov/sites/batchentrez) and downloaded the protein which were available. For those that were not found in the protein database, I provided those accessions to the nucleotide database and grabbed the CDS. Of all the crickmore sequences only 12 were not found:\n",
    "\n",
    "The following records can't be retrieved:\n",
    "\n",
    "- Id=KJ28844:\tnuccore: Wrong UID KJ28844\n",
    "- Id=KJ28845:\tnuccore: Wrong UID KJ28845\n",
    "- Id=KJ28846:\tnuccore: Wrong UID KJ28846\n",
    "- Id=MG674828:\tnuccore: Wrong UID MG674828\n",
    "- Id=MG983752:\tnuccore: Wrong UID MG983752\n",
    "- Id=MG983753:\tnuccore: Wrong UID MG983753\n",
    "- Id=MG983754:\tnuccore: Wrong UID MG983754\n",
    "- Id=MH253686:\tnuccore: Wrong UID MH253686\n",
    "- Id=MH475904:\tnuccore: Wrong UID MH475904\n",
    "- Id=MH475905:\tnuccore: Wrong UID MH475905\n",
    "- Id=MH475906:\tnuccore: Wrong UID MH475906\n",
    "- Id=MH475907:\tnuccore: Wrong UID MH475907\n",
    "\n",
    "Also I manually omitted AL731825 and CP015350 from `cry-accessions.txt` as they were improperly annotated in NCBI."
   ]
  },
  {
   "cell_type": "code",
   "execution_count": 1,
   "metadata": {},
   "outputs": [],
   "source": [
    "import os\n",
    "os.chdir('../crickmore/cry')"
   ]
  },
  {
   "cell_type": "code",
   "execution_count": 19,
   "metadata": {},
   "outputs": [],
   "source": [
    "## Commented out because I do not need to run them again.\n",
    "\n",
    "# %%bash\n",
    "# reformat fasta files to 1 line fasta to allow grep to work easier\n",
    "# perl ../../../1line-fasta.pl crickmore-cds.fasta > crickmore-cds.1line.fasta\n",
    "# grep --no-group-separator -A1 -F -f cry-accessions.txt crickmore-cds.1line.fasta  > temp && mv temp crickmore-cds.fasta"
   ]
  },
  {
   "cell_type": "markdown",
   "metadata": {},
   "source": [
    "Since there were some NCBI entries that were the CDS I translated these into proteins using [transeq](https://www.ebi.ac.uk/seqdb/confluence/display/THD/EMBOSS+Transeq) from the [EMBOSS sotware suite](https://www.ebi.ac.uk/Tools/emboss/)."
   ]
  },
  {
   "cell_type": "code",
   "execution_count": null,
   "metadata": {
    "collapsed": true,
    "run_control": {
     "marked": false
    }
   },
   "outputs": [],
   "source": [
    "## Commented out because I do not need to run them again.\n",
    "\n",
    "# %%bash\n",
    "# transeq -clean -sequence crickmore-cds.fasta -outseq crickmore-cds.translated.fasta -frame 1\n",
    "\n",
    "# Combine them with the existing protein sequences\n",
    "# cat crickmore-aa.fasta crickmore-cds.translated.fasta > all-cry-aa.fasta"
   ]
  },
  {
   "cell_type": "markdown",
   "metadata": {},
   "source": [
    "## PATRIC\n",
    "\n",
    "To start I wanted to see how well blastx matched up with the ToxinScanner results as I will be using blastx (and other flavors) for future analysis and want to make sure that I have the parameters correct. For a simple test I ran it on the d12 sample."
   ]
  },
  {
   "cell_type": "code",
   "execution_count": 4,
   "metadata": {
    "scrolled": true
   },
   "outputs": [],
   "source": [
    "os.chdir('../../patric/d12')"
   ]
  },
  {
   "cell_type": "code",
   "execution_count": null,
   "metadata": {},
   "outputs": [],
   "source": [
    "%%bash\n",
    "\n",
    "blastx \\\n",
    "-query a1-d12.contigs.fasta \\\n",
    "-db all-cry-aa.fasta \\\n",
    "-out contig-blastx.tsv \\\n",
    "-outfmt '6 qaccver saccver pident length qlen slen mismatch gapopen qstart qend sstart send evalue bitscore' \\\n",
    "-num_threads 4 \\\n",
    "-max_target_seqs 1 \\\n",
    "-culling_limit 1 \\\n",
    "-evalue 0.00005 \\\n",
    "-max_hsps 1"
   ]
  },
  {
   "cell_type": "code",
   "execution_count": 13,
   "metadata": {},
   "outputs": [
    {
     "ename": "ImportError",
     "evalue": "No module named tabulate",
     "output_type": "error",
     "traceback": [
      "\u001b[0;31m---------------------------------------------------------------------------\u001b[0m",
      "\u001b[0;31mImportError\u001b[0m                               Traceback (most recent call last)",
      "\u001b[0;32m<ipython-input-13-eb8ff7b61551>\u001b[0m in \u001b[0;36m<module>\u001b[0;34m()\u001b[0m\n\u001b[1;32m      1\u001b[0m \u001b[0;32mimport\u001b[0m \u001b[0mpandas\u001b[0m \u001b[0;32mas\u001b[0m \u001b[0mpd\u001b[0m\u001b[0;34m\u001b[0m\u001b[0m\n\u001b[0;32m----> 2\u001b[0;31m \u001b[0;32mfrom\u001b[0m \u001b[0mtabulate\u001b[0m \u001b[0;32mimport\u001b[0m \u001b[0mtabulate\u001b[0m\u001b[0;34m\u001b[0m\u001b[0m\n\u001b[0m\u001b[1;32m      3\u001b[0m \u001b[0;34m\u001b[0m\u001b[0m\n\u001b[1;32m      4\u001b[0m \u001b[0mdf\u001b[0m \u001b[0;34m=\u001b[0m \u001b[0mpd\u001b[0m\u001b[0;34m.\u001b[0m\u001b[0mread_table\u001b[0m\u001b[0;34m(\u001b[0m\u001b[0;34m'contig-blastx.tsv'\u001b[0m\u001b[0;34m,\u001b[0m\u001b[0mheader\u001b[0m\u001b[0;34m=\u001b[0m\u001b[0mNone\u001b[0m\u001b[0;34m)\u001b[0m\u001b[0;34m\u001b[0m\u001b[0m\n\u001b[1;32m      5\u001b[0m \u001b[0mdf\u001b[0m\u001b[0;34m.\u001b[0m\u001b[0mcolumns\u001b[0m \u001b[0;34m=\u001b[0m \u001b[0;34m'qaccver saccver pident length qlen slen mismatch gapopen qstart qend sstart send evalue bitscore'\u001b[0m\u001b[0;34m.\u001b[0m\u001b[0mstrip\u001b[0m\u001b[0;34m(\u001b[0m\u001b[0;34m)\u001b[0m\u001b[0;34m.\u001b[0m\u001b[0msplit\u001b[0m\u001b[0;34m(\u001b[0m\u001b[0;34m' '\u001b[0m\u001b[0;34m)\u001b[0m\u001b[0;34m\u001b[0m\u001b[0m\n",
      "\u001b[0;31mImportError\u001b[0m: No module named tabulate"
     ]
    }
   ],
   "source": [
    "import pandas as pd\n",
    "from tabulate import tabulate\n",
    "\n",
    "df = pd.read_table('contig-blastx.tsv',header=None)\n",
    "df.columns = 'qaccver saccver pident length qlen slen mismatch gapopen qstart qend sstart send evalue bitscore'.strip().split(' ')\n",
    "with pd.option_context('display.max_rows', None, 'display.max_columns', None, 'display.precision', 2):\n",
    "        print(tabulate(df_filtered, headers='keys', tablefmt='markdown'))"
   ]
  },
  {
   "cell_type": "code",
   "execution_count": null,
   "metadata": {
    "collapsed": true
   },
   "outputs": [],
   "source": []
  }
 ],
 "metadata": {
  "kernelspec": {
   "display_name": "Python 2",
   "language": "python",
   "name": "python2"
  },
  "language_info": {
   "codemirror_mode": {
    "name": "ipython",
    "version": 2
   },
   "file_extension": ".py",
   "mimetype": "text/x-python",
   "name": "python",
   "nbconvert_exporter": "python",
   "pygments_lexer": "ipython2",
   "version": "2.7.13"
  },
  "latex_envs": {
   "bibliofile": "biblio.bib",
   "cite_by": "apalike",
   "current_citInitial": 1,
   "eqLabelWithNumbers": true,
   "eqNumInitial": 0
  },
  "toc": {
   "toc_cell": false,
   "toc_number_sections": true,
   "toc_threshold": 6,
   "toc_window_display": false
  }
 },
 "nbformat": 4,
 "nbformat_minor": 2
}
