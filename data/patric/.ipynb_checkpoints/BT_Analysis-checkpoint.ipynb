{
 "cells": [
  {
   "cell_type": "markdown",
   "metadata": {},
   "source": [
    "# BT Analysis\n",
    "The goal here is to:\n",
    "\n",
    "-   Extract the full lengths cds\n",
    "    -   Applying this to both the Crickmore database as well as the Patric data seems to make the most sense going forward - things will just be easier.\n",
    "-   Check to see if there Patric sequences are full length CDS when compared to\n",
    "    the Crickmore database. This will be done using blast at the nt/prot level.\n",
    "    -   If yes then proceed as normal.\n",
    "    -   If no then try to build out the assembly for each contig.\n",
    "-   Create a tree showing divergence with the nucleotide sequences of each\n",
    "    Patric cry protein amongst those registered in the Crickmore db.\n",
    "-   Analyze the protein domains\n",
    "    -   Need more details about this analysis"
   ]
  },
  {
   "cell_type": "markdown",
   "metadata": {
    "collapsed": true
   },
   "source": [
    "## Get Full Length CDS\n",
    "\n",
    "### Crickmore\n",
    "To obtain known cry sequences I used the Crickmore database to grab the accessions for each gene by parsing the [html file](http://www.btnomenclature.info/). I provided all of these to [batch entrez](https://www.ncbi.nlm.nih.gov/sites/batchentrez) and downloaded the protein which were available. For those that were not found in the protein database, I provided those accessions to the nucleotide database and grabbed the CDS. Of all the crickmore sequences only 12 were not found:\n",
    "\n",
    "The following records can't be retrieved:\n",
    "\n",
    "- Id=KJ28844:\tnuccore: Wrong UID KJ28844\n",
    "- Id=KJ28845:\tnuccore: Wrong UID KJ28845\n",
    "- Id=KJ28846:\tnuccore: Wrong UID KJ28846\n",
    "- Id=MG674828:\tnuccore: Wrong UID MG674828\n",
    "- Id=MG983752:\tnuccore: Wrong UID MG983752\n",
    "- Id=MG983753:\tnuccore: Wrong UID MG983753\n",
    "- Id=MG983754:\tnuccore: Wrong UID MG983754\n",
    "- Id=MH253686:\tnuccore: Wrong UID MH253686\n",
    "- Id=MH475904:\tnuccore: Wrong UID MH475904\n",
    "- Id=MH475905:\tnuccore: Wrong UID MH475905\n",
    "- Id=MH475906:\tnuccore: Wrong UID MH475906\n",
    "- Id=MH475907:\tnuccore: Wrong UID MH475907\n",
    "\n",
    "Also I manually omitted AL731825 and CP015350 from `cry-accessions.txt` as they were improperly annotated in NCBI."
   ]
  },
  {
   "cell_type": "code",
   "execution_count": 3,
   "metadata": {},
   "outputs": [],
   "source": [
    "import os\n",
    "os.chdir('../crickmore/cry')"
   ]
  },
  {
   "cell_type": "code",
   "execution_count": 19,
   "metadata": {},
   "outputs": [],
   "source": [
    "## Commented out because I do not need to run them again.\n",
    "\n",
    "# %%bash\n",
    "# reformat fasta files to 1 line fasta to allow grep to work easier\n",
    "# perl ../../../1line-fasta.pl crickmore-cds.fasta > crickmore-cds.1line.fasta\n",
    "# grep --no-group-separator -A1 -F -f cry-accessions.txt crickmore-cds.1line.fasta  > temp && mv temp crickmore-cds.fasta"
   ]
  },
  {
   "cell_type": "markdown",
   "metadata": {},
   "source": [
    "Since there were some NCBI entries that were the CDS I translated these into proteins using [transeq](https://www.ebi.ac.uk/seqdb/confluence/display/THD/EMBOSS+Transeq) from the [EMBOSS sotware suite](https://www.ebi.ac.uk/Tools/emboss/)."
   ]
  },
  {
   "cell_type": "code",
   "execution_count": null,
   "metadata": {
    "collapsed": true,
    "run_control": {
     "marked": false
    }
   },
   "outputs": [],
   "source": [
    "## Commented out because I do not need to run them again.\n",
    "\n",
    "# %%bash\n",
    "# transeq -clean -sequence crickmore-cds.fasta -outseq crickmore-cds.translated.fasta -frame 1\n",
    "\n",
    "# Combine them with the existing protein sequences\n",
    "# cat crickmore-aa.fasta crickmore-cds.translated.fasta > all-cry-aa.fasta"
   ]
  },
  {
   "cell_type": "markdown",
   "metadata": {},
   "source": [
    "### PATRIC\n",
    "\n",
    "To start I wanted to see how well blastx matched up with the ToxinScanner results as I will be using blastx (and other flavors) for future analysis and want to make sure that I have the parameters correct. For a simple test I ran it on the d12 sample."
   ]
  },
  {
   "cell_type": "code",
   "execution_count": 4,
   "metadata": {
    "scrolled": true
   },
   "outputs": [],
   "source": [
    "os.chdir('../../patric/d12')"
   ]
  },
  {
   "cell_type": "code",
   "execution_count": null,
   "metadata": {},
   "outputs": [],
   "source": [
    "%%bash\n",
    "\n",
    "blastx \\\n",
    "-query a1-d12.contigs.fasta \\\n",
    "-db all-cry-aa.fasta \\\n",
    "-out contig-blastx.tsv \\\n",
    "-outfmt '6 qaccver saccver pident length qlen slen mismatch gapopen qstart qend sstart send evalue bitscore' \\\n",
    "-num_threads 4 \\\n",
    "-max_target_seqs 1 \\\n",
    "-culling_limit 1 \\\n",
    "-evalue 0.00005 \\\n",
    "-max_hsps 1"
   ]
  },
  {
   "cell_type": "code",
   "execution_count": 7,
   "metadata": {},
   "outputs": [
    {
     "name": "stdout",
     "output_type": "stream",
     "text": [
      "    qaccver                 saccver      pident    length    qlen    slen    mismatch    gapopen    qstart    qend    sstart    send    evalue    bitscore\n",
      "--  ----------------------  ---------  --------  --------  ------  ------  ----------  ---------  --------  ------  --------  ------  --------  ----------\n",
      " 0  accn|91061.11.con.0048  Cry6Ba1      30.571       350   17299     395         217          6      8651    9622        43     392  2.25e-32       129\n",
      " 1  accn|91061.11.con.0049  Cry55Aa3     26.855       283   17477     363         180          8      3098    2307        68     342  2.78e-12        68.2\n",
      " 2  accn|91061.11.con.0054  Cry6Aa1      28.736       348   15326     475         224          5      6907    7878        37     384  8.96e-37       144\n",
      " 3  accn|91061.11.con.0055  Cry75Aa3     33.784       222   15041     317         128          8      5681    5064        94     312  3.7e-18         85.1\n",
      " 4  accn|91061.11.con.0060  Cry4Ba2      76.577       111   12780    1136          26          0      6932    7264      1026    1136  7.47e-39       156\n",
      " 5  accn|91061.11.con.0065  Cry4Ba1      62.742      1138   11299    1136         400         11      6594    9956         5    1135  0             1397\n",
      " 6  accn|91061.11.con.0089  Cry11Bb2     73.755       522    8574     793          90          4      5654    7114         1     510  0              691\n",
      " 7  accn|91061.11.con.0099  Cry44Aa1     41.772       316    4521     686         156          9      4471    3554       373     670  3.03e-57       207\n",
      " 8  accn|91061.11.con.0110  Cry4Aa2      45.285      1230    4103    1180         532         30      3734     312         1    1178  0              950\n"
     ]
    }
   ],
   "source": [
    "import pandas as pd\n",
    "import tabulate\n",
    "df = pd.read_table('contig-blastx.tsv',header=None)\n",
    "df.columns = 'qaccver saccver pident length qlen slen mismatch gapopen qstart qend sstart send evalue bitscore'.strip().split(' ')\n",
    "with pd.option_context('display.max_rows', None, 'display.max_columns', None, 'display.precision', 2):\n",
    "        print(tabulate.tabulate(df, headers='keys', tablefmt='markdown'))"
   ]
  },
  {
   "cell_type": "markdown",
   "metadata": {
    "collapsed": true
   },
   "source": [
    "So the results matched the ToxinScanner results for the d12 sample. However, this will need a but more tweaking as some of the alignments (in the `length` field) are very short. To summarize:\n",
    "* All potential coding sequences from the alignment coordinates (and beyond so that we don't lose miss any potential start/stop codons that are in frame) within the matched contig will be extracted\n",
    "* Those coding sequences that align to one of our putative toxins will be considered as potential candidates.\n",
    "* Of these candidates, we will look for domains (?) and/or grab the longest CDS and consider that our toxin.\n",
    "\n",
    "The initial attempt of this can be seen below in a latter section (coming soon!)."
   ]
  },
  {
   "cell_type": "markdown",
   "metadata": {},
   "source": [
    "## Alignment\n",
    "In order to see how divergent our sequences are from the known Cry proteins we will need to construct a multiple-sequence alignment from which we can produce a tree. Since both the Crickmore database as well as the predicted genes from ToxinScanner are not solely full length CDS I had to decide on some cutoffs until we are certain that the data we are working with is perfect. Also, it takes ~8 hours to generate a tree for the 438 sequences that we're working with now - so given time constraints I decided these cutoffs were best for a proof-of-concept. \n",
    "\n",
    "A few questions I have about the alignment/tree generation steps are as follows:\n",
    "- I have read that for some distance based methods the alignment does not have to be perfect and can actually afford many gaps but would like to know for sure.\n",
    "- There are many methods to estimate distances between sequences. The crockmore database used UPGMA/neighbor-joining approaches to calculate distances which is good for sequences that are fairly similar. I used a maximum likelihood approach which is tailored to sequences that are very dissimilar. Given that our sequences can be <= 40% identical (to me that seems low) this seemed the best approach to me.\n",
    "- The Crickmore team used a rooted tree which assumes there is a common ancestor. As far as I know that isn't the case here, so I initially generated an unrooted tree which is better for looking at variability amongst genes as opposed to evolution over time. This is also something I would like more clarity on."
   ]
  },
  {
   "cell_type": "markdown",
   "metadata": {},
   "source": [
    "### Filtering Sequences\n",
    "Given the constraints of the initial analysis, I took the libery of paring down the data into something that I'm more confident in working with as well as something that is quicker. \n",
    "\n",
    "From the PATRIC data files I retrieved each of the strain's predicted protein sequences mainly due to the fact that it was a bit of a rabbit hole in trying to find the full lenght CDS based on partial alignments.\n",
    "\n",
    "These protein sequences were then blasted against the Crickmore datbase. From the blast results I filter the hit for the sequences that:\n",
    "- have a minimum alignment length of 100aa\n",
    "- have a minumum length of 1kaa\n",
    "- have an alignment that covers at least 80% of the sequence of interest\n",
    "- Have a start and stop codon/aa\n",
    "\n",
    "All sequences that passed these filtered were then passed on to the alignment algorithm."
   ]
  },
  {
   "cell_type": "code",
   "execution_count": 1,
   "metadata": {},
   "outputs": [
    {
     "name": "stdout",
     "output_type": "stream",
     "text": [
      "\u001b[0m\u001b[01;34ma24\u001b[0m/                                          BT_Analysis.ipynb  \u001b[01;34mj1\u001b[0m/\r\n",
      "all-patric-and-crickmore.aa.1k.fasta          \u001b[01;34md12\u001b[0m/               \u001b[01;34mmb11\u001b[0m/\r\n",
      "all-patric-and-crickmore.aa.1k.mat            \u001b[01;36mfont1\u001b[0m@             \u001b[01;34mmy46\u001b[0m/\r\n",
      "all-patric-and-crickmore.aa.1k.phy            \u001b[01;36mfont2\u001b[0m@             plotfile\r\n",
      "all-patric-and-crickmore.aa.1k.phy.out        \u001b[01;36mfont3\u001b[0m@             plotfile.pdf\r\n",
      "all-patric-and-crickmore.aa.1k.phy.tree       \u001b[01;36mfont4\u001b[0m@             \u001b[01;34ms1\u001b[0m/\r\n",
      "all-patric-and-crickmore.aa.1k.phy.tree.orig  \u001b[01;36mfont5\u001b[0m@\r\n",
      "\u001b[01;36manalysis.sh\u001b[0m@                                  \u001b[01;36mfont6\u001b[0m@\r\n"
     ]
    }
   ],
   "source": [
    "os.chdir('..')"
   ]
  },
  {
   "cell_type": "code",
   "execution_count": 3,
   "metadata": {},
   "outputs": [],
   "source": [
    "%%bash\n",
    "for i in a24 j1 my46 mb11 s1 d12\n",
    " do\n",
    "  blastp -query  $i/PATRIC_genome_feature.fasta -db ../crickmore/cry/all-cry-aa.fasta -out $i/PATRIC_genome_feature.blastp.tsv -outfmt '6 qaccver saccver pident length qlen slen mismatch gapopen qstart qend sstart send evalue bitscore' -num_threads 4 -max_target_seqs 3 -max_hsps 2 -culling_limit 2 -evalue 0.00005\n",
    "\n",
    "  python3 ../../scripts/filter-blast-results.py -i $i/PATRIC_genome_feature.blastp.tsv  -l 100 -q 80 --qlen 1000 -s $i/PATRIC_genome_feature.fasta -o $i/PATRIC_genome_feature.blastp.filtered.fasta\n",
    "\n",
    "done"
   ]
  },
  {
   "cell_type": "markdown",
   "metadata": {},
   "source": [
    "### Alignment\n",
    "\n",
    "For the alignment algorithm I used clustal omega."
   ]
  },
  {
   "cell_type": "code",
   "execution_count": null,
   "metadata": {},
   "outputs": [],
   "source": [
    "%%bash\n",
    "\n",
    "# Filtered the Crickmore database for seqs >= 1kaa\n",
    "python ../../scripts/filter-seqs.py -s ../crickmore/cry/all-cry-aa.fasta -l 1000 --full > ../crickmore/cry/all-cry-aa.1k.fasta\n",
    "\n",
    "# Concatenate all the Crickmore and sequences of interest into one file\n",
    "cat ../crickmore/cry/all-cry-aa.1k.fasta */PATRIC_genome_feature.blastp.filtered.fasta > all-patric-and-crickmore.aa.1k.fasta\n",
    "\n",
    "# Align using clustal and outputting phylip format\n",
    "clustalo --outfmt phy --distmat-out all-patric-and-crickmore.aa.1k.mat -v -i all-patric-and-crickmore.aa.1k.fasta -o all-patric-and-crickmore.aa.1k.phy --force --full"
   ]
  },
  {
   "cell_type": "markdown",
   "metadata": {},
   "source": [
    "### Distance Matrix Calculation\n",
    "To generate a distance matrix I used [proml](http://evolution.genetics.washington.edu/phylip/doc/proml.html) from the PHYLIP package. Proml is an algorithm that implements maximum liklihood approach to generating a distance matrix. The Crickmore people used [protdist](http://evolution.genetics.washington.edu/phylip/doc/protdist.html) which, as I stated earlier, didn't seem like the right tool for this job. \n",
    "\n",
    "proml is an interactive piece of software so I do not have the commands listed here. However, I used the default parameters.\n",
    "\n",
    "FYI this is a very lengthy algorithm (~8 hours for 438 sequences)."
   ]
  },
  {
   "cell_type": "markdown",
   "metadata": {},
   "source": [
    "### Tree Drawing\n",
    "\n",
    "I used [FigTree](http://tree.bio.ed.ac.uk/software/figtree/) to render the tree."
   ]
  },
  {
   "cell_type": "markdown",
   "metadata": {},
   "source": [
    "## Cluster Analysis\n",
    "A way to see which of our genes are considered 'novel' is to look at how they cluster when given a certain identity threshold. To do this I used CD-HIT to cluster based on percent identity between sequences. Since there are different percent identities that segregate the different Cry ranks I will use those to start."
   ]
  },
  {
   "cell_type": "code",
   "execution_count": 4,
   "metadata": {},
   "outputs": [
    {
     "name": "stdout",
     "output_type": "stream",
     "text": [
      "================================================================\n",
      "Program: CD-HIT, V4.7 (+OpenMP), Jul 13 2018, 17:17:44\n",
      "Command: cd-hit -i all-patric-and-crickmore.aa.1k.fasta -o\n",
      "         all-patric-and-crickmore.aa.1k.45.cdhit -T 4 -g 1 -c\n",
      "         .45\n",
      "\n",
      "Started: Thu Oct 11 03:37:20 2018\n",
      "================================================================\n",
      "                            Output                              \n",
      "----------------------------------------------------------------\n",
      "================================================================\n",
      "Program: CD-HIT, V4.7 (+OpenMP), Jul 13 2018, 17:17:44\n",
      "Command: cd-hit -i all-patric-and-crickmore.aa.1k.fasta -o\n",
      "         all-patric-and-crickmore.aa.1k.78.cdhit -T 4 -g 1 -c\n",
      "         .78\n",
      "\n",
      "Started: Thu Oct 11 03:37:20 2018\n",
      "================================================================\n",
      "                            Output                              \n",
      "----------------------------------------------------------------\n",
      "total seq: 402\n",
      "longest and shortest : 1523 and 1044\n",
      "Total letters: 477041\n",
      "Sequences have been sorted\n",
      "\n",
      "Approximated minimal memory consumption:\n",
      "Sequence        : 0M\n",
      "Buffer          : 4 X 10M = 43M\n",
      "Table           : 2 X 65M = 130M\n",
      "Miscellaneous   : 0M\n",
      "Total           : 174M\n",
      "\n",
      "Table limit with the given memory limit:\n",
      "Max number of representatives: 489611\n",
      "Max number of word counting entries: 78186287\n",
      "\n",
      "\r",
      "# comparing sequences from          0  to        402\n",
      "---------- new table with      119 representatives\n",
      "\n",
      "      402  finished        119  clusters\n",
      "\n",
      "Apprixmated maximum memory consumption: 175M\n",
      "writing new database\n",
      "writing clustering information\n",
      "program completed !\n",
      "\n",
      "Total CPU time 0.52\n",
      "================================================================\n",
      "Program: CD-HIT, V4.7 (+OpenMP), Jul 13 2018, 17:17:44\n",
      "Command: cd-hit -i all-patric-and-crickmore.aa.1k.fasta -o\n",
      "         all-patric-and-crickmore.aa.1k.95.cdhit -T 4 -g 1 -c\n",
      "         .95\n",
      "\n",
      "Started: Thu Oct 11 03:37:20 2018\n",
      "================================================================\n",
      "                            Output                              \n",
      "----------------------------------------------------------------\n",
      "total seq: 402\n",
      "longest and shortest : 1523 and 1044\n",
      "Total letters: 477041\n",
      "Sequences have been sorted\n",
      "\n",
      "Approximated minimal memory consumption:\n",
      "Sequence        : 0M\n",
      "Buffer          : 4 X 10M = 43M\n",
      "Table           : 2 X 65M = 130M\n",
      "Miscellaneous   : 0M\n",
      "Total           : 174M\n",
      "\n",
      "Table limit with the given memory limit:\n",
      "Max number of representatives: 489611\n",
      "Max number of word counting entries: 78186287\n",
      "\n",
      "\r",
      "# comparing sequences from          0  to        402\n",
      "---------- new table with      178 representatives\n",
      "\n",
      "      402  finished        178  clusters\n",
      "\n",
      "Apprixmated maximum memory consumption: 176M\n",
      "writing new database\n",
      "writing clustering information\n",
      "program completed !\n",
      "\n",
      "Total CPU time 0.32\n"
     ]
    },
    {
     "name": "stderr",
     "output_type": "stream",
     "text": [
      "\n",
      "Fatal Error:\n",
      "Too low cluster threshold for the word length.\n",
      "Increase the threshold or the tolerance, or decrease the word length.\n",
      "Program halted !!\n",
      "\n"
     ]
    }
   ],
   "source": [
    "%%bash\n",
    "for i in 45 78 95\n",
    "do \n",
    "cd-hit \\\n",
    "-i all-patric-and-crickmore.aa.1k.fasta \\\n",
    "-o all-patric-and-crickmore.aa.1k.$i.cdhit \\\n",
    "-T 4 -g 1 -c .$i\n",
    "done"
   ]
  },
  {
   "cell_type": "markdown",
   "metadata": {},
   "source": [
    "It seems that 45% is too low an identity threshold for that word length. However, at 95% there are 178 clusters and at 78% there are 119 clusters. I will have to look to see where the others fall into this category."
   ]
  }
 ],
 "metadata": {
  "kernelspec": {
   "display_name": "Python 3",
   "language": "python",
   "name": "python3"
  },
  "language_info": {
   "codemirror_mode": {
    "name": "ipython",
    "version": 3
   },
   "file_extension": ".py",
   "mimetype": "text/x-python",
   "name": "python",
   "nbconvert_exporter": "python",
   "pygments_lexer": "ipython3",
   "version": "3.6.3"
  },
  "latex_envs": {
   "bibliofile": "biblio.bib",
   "cite_by": "apalike",
   "current_citInitial": 1,
   "eqLabelWithNumbers": true,
   "eqNumInitial": 0
  },
  "toc": {
   "toc_cell": false,
   "toc_number_sections": true,
   "toc_threshold": 6,
   "toc_window_display": false
  }
 },
 "nbformat": 4,
 "nbformat_minor": 2
}
